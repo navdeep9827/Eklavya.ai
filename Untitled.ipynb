{
 "cells": [
  {
   "cell_type": "code",
   "execution_count": 9,
   "id": "c8a720cc",
   "metadata": {},
   "outputs": [],
   "source": [
    "m = {\"a\":[]}"
   ]
  },
  {
   "cell_type": "code",
   "execution_count": 10,
   "id": "3f2dc3f5",
   "metadata": {},
   "outputs": [],
   "source": [
    "m[\"a\"] = m[\"a\"] + [4,5,6]"
   ]
  },
  {
   "cell_type": "code",
   "execution_count": 11,
   "id": "35f7abd9",
   "metadata": {},
   "outputs": [
    {
     "data": {
      "text/plain": [
       "{'a': [4, 5, 6]}"
      ]
     },
     "execution_count": 11,
     "metadata": {},
     "output_type": "execute_result"
    }
   ],
   "source": [
    "m"
   ]
  },
  {
   "cell_type": "code",
   "execution_count": 12,
   "id": "6c88c4fb",
   "metadata": {},
   "outputs": [],
   "source": [
    "keys_list = ['a', 'b', 'c']\n",
    "\n",
    "# Create a dictionary with keys and empty lists as values\n",
    "my_dict = {key: [] for key in keys_list}"
   ]
  },
  {
   "cell_type": "code",
   "execution_count": 13,
   "id": "cffe904e",
   "metadata": {},
   "outputs": [
    {
     "data": {
      "text/plain": [
       "{'a': [], 'b': [], 'c': []}"
      ]
     },
     "execution_count": 13,
     "metadata": {},
     "output_type": "execute_result"
    }
   ],
   "source": [
    "my_dict"
   ]
  },
  {
   "cell_type": "code",
   "execution_count": 14,
   "id": "c55e9545",
   "metadata": {},
   "outputs": [
    {
     "name": "stdout",
     "output_type": "stream",
     "text": [
      "[1, 2, 3, 4, 5, 6, 7, 8, 9]\n"
     ]
    }
   ],
   "source": [
    "# Sample dictionary with lists as values\n",
    "my_dict = {'a': [1, 2, 3], 'b': [4, 5, 6], 'c': [7, 8, 9]}\n",
    "\n",
    "# Merge all lists into a single list\n",
    "merged_list = [item for sublist in my_dict.values() for item in sublist]\n",
    "\n",
    "# Display the result\n",
    "print(merged_list)\n"
   ]
  },
  {
   "cell_type": "code",
   "execution_count": null,
   "id": "a27f97b4",
   "metadata": {},
   "outputs": [],
   "source": []
  }
 ],
 "metadata": {
  "kernelspec": {
   "display_name": "Python 3 (ipykernel)",
   "language": "python",
   "name": "python3"
  },
  "language_info": {
   "codemirror_mode": {
    "name": "ipython",
    "version": 3
   },
   "file_extension": ".py",
   "mimetype": "text/x-python",
   "name": "python",
   "nbconvert_exporter": "python",
   "pygments_lexer": "ipython3",
   "version": "3.11.5"
  }
 },
 "nbformat": 4,
 "nbformat_minor": 5
}
