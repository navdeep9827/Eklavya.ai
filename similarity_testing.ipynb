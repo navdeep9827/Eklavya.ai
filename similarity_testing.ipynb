{
 "cells": [
  {
   "cell_type": "code",
   "execution_count": 1,
   "id": "dab50ce9",
   "metadata": {
    "scrolled": true
   },
   "outputs": [],
   "source": [
    "from similarity_utils import find_top_closest_indices\n",
    "import pandas as pd\n",
    "import pickle"
   ]
  },
  {
   "cell_type": "code",
   "execution_count": 2,
   "id": "fed4d6d2",
   "metadata": {
    "scrolled": true
   },
   "outputs": [
    {
     "data": {
      "text/html": [
       "<div>\n",
       "<style scoped>\n",
       "    .dataframe tbody tr th:only-of-type {\n",
       "        vertical-align: middle;\n",
       "    }\n",
       "\n",
       "    .dataframe tbody tr th {\n",
       "        vertical-align: top;\n",
       "    }\n",
       "\n",
       "    .dataframe thead th {\n",
       "        text-align: right;\n",
       "    }\n",
       "</style>\n",
       "<table border=\"1\" class=\"dataframe\">\n",
       "  <thead>\n",
       "    <tr style=\"text-align: right;\">\n",
       "      <th></th>\n",
       "      <th>index</th>\n",
       "      <th>combined_embedding</th>\n",
       "    </tr>\n",
       "  </thead>\n",
       "  <tbody>\n",
       "    <tr>\n",
       "      <th>0</th>\n",
       "      <td>0</td>\n",
       "      <td>[-0.03823105, -0.091509715, -0.033786055, 0.00...</td>\n",
       "    </tr>\n",
       "    <tr>\n",
       "      <th>1</th>\n",
       "      <td>1</td>\n",
       "      <td>[-0.047825653, -0.071580514, -0.04380819, 0.03...</td>\n",
       "    </tr>\n",
       "    <tr>\n",
       "      <th>2</th>\n",
       "      <td>2</td>\n",
       "      <td>[0.03246473, -0.0035147574, -0.029921677, -0.0...</td>\n",
       "    </tr>\n",
       "    <tr>\n",
       "      <th>3</th>\n",
       "      <td>3</td>\n",
       "      <td>[-0.049498253, -0.052300833, -0.052946348, 0.0...</td>\n",
       "    </tr>\n",
       "    <tr>\n",
       "      <th>4</th>\n",
       "      <td>4</td>\n",
       "      <td>[-0.031081613, -0.075505726, -0.022749301, 0.0...</td>\n",
       "    </tr>\n",
       "    <tr>\n",
       "      <th>...</th>\n",
       "      <td>...</td>\n",
       "      <td>...</td>\n",
       "    </tr>\n",
       "    <tr>\n",
       "      <th>294</th>\n",
       "      <td>294</td>\n",
       "      <td>[0.05725256, 0.0068185977, 0.060864266, 0.0112...</td>\n",
       "    </tr>\n",
       "    <tr>\n",
       "      <th>295</th>\n",
       "      <td>295</td>\n",
       "      <td>[0.048336647, -0.051413715, -0.012384985, 0.06...</td>\n",
       "    </tr>\n",
       "    <tr>\n",
       "      <th>296</th>\n",
       "      <td>296</td>\n",
       "      <td>[-0.009182682, -0.071656786, 0.002558747, 0.05...</td>\n",
       "    </tr>\n",
       "    <tr>\n",
       "      <th>297</th>\n",
       "      <td>297</td>\n",
       "      <td>[-0.04120891, -0.06462165, 0.016137527, 0.0748...</td>\n",
       "    </tr>\n",
       "    <tr>\n",
       "      <th>298</th>\n",
       "      <td>298</td>\n",
       "      <td>[0.06611539, -0.012934935, 0.0034527841, -0.01...</td>\n",
       "    </tr>\n",
       "  </tbody>\n",
       "</table>\n",
       "<p>299 rows × 2 columns</p>\n",
       "</div>"
      ],
      "text/plain": [
       "     index                                 combined_embedding\n",
       "0        0  [-0.03823105, -0.091509715, -0.033786055, 0.00...\n",
       "1        1  [-0.047825653, -0.071580514, -0.04380819, 0.03...\n",
       "2        2  [0.03246473, -0.0035147574, -0.029921677, -0.0...\n",
       "3        3  [-0.049498253, -0.052300833, -0.052946348, 0.0...\n",
       "4        4  [-0.031081613, -0.075505726, -0.022749301, 0.0...\n",
       "..     ...                                                ...\n",
       "294    294  [0.05725256, 0.0068185977, 0.060864266, 0.0112...\n",
       "295    295  [0.048336647, -0.051413715, -0.012384985, 0.06...\n",
       "296    296  [-0.009182682, -0.071656786, 0.002558747, 0.05...\n",
       "297    297  [-0.04120891, -0.06462165, 0.016137527, 0.0748...\n",
       "298    298  [0.06611539, -0.012934935, 0.0034527841, -0.01...\n",
       "\n",
       "[299 rows x 2 columns]"
      ]
     },
     "execution_count": 2,
     "metadata": {},
     "output_type": "execute_result"
    }
   ],
   "source": [
    "# Load vector_df from pickle\n",
    "vector_df = pd.read_pickle('vector_df.pkl')\n",
    "vector_df"
   ]
  },
  {
   "cell_type": "code",
   "execution_count": 3,
   "id": "6c8f253e",
   "metadata": {},
   "outputs": [
    {
     "name": "stdout",
     "output_type": "stream",
     "text": [
      "Top indices for index 1: [7, 21, 3, 32]\n",
      "Top indices for index 2: [9, 7, 25, 43]\n",
      "Top indices for index 42: [47, 39, 40, 45]\n",
      "Top indices for index 190: [178, 163, 196, 167]\n",
      "Top indices for index 297: [295, 262, 286, 284]\n",
      "Top indices for index 298: [280, 285, 256, 261]\n"
     ]
    }
   ],
   "source": [
    "# Example usage with your provided wrong_questions_array and questions_array\n",
    "wrong_questions_array = [1, 2, 42, 190, 297, 298]\n",
    "questions_array = [1, 2, 41, 42, 91, 92, 165, 166, 190, 191, 297, 298]\n",
    "result = find_top_closest_indices(vector_df, wrong_questions_array, questions_array, top_k=4)\n",
    "\n",
    "# Display the result\n",
    "for index, top_indices in result.items():\n",
    "    print(f\"Top indices for index {index}: {top_indices}\")"
   ]
  }
 ],
 "metadata": {
  "kernelspec": {
   "display_name": "Python 3 (ipykernel)",
   "language": "python",
   "name": "python3"
  },
  "language_info": {
   "codemirror_mode": {
    "name": "ipython",
    "version": 3
   },
   "file_extension": ".py",
   "mimetype": "text/x-python",
   "name": "python",
   "nbconvert_exporter": "python",
   "pygments_lexer": "ipython3",
   "version": "3.11.4"
  }
 },
 "nbformat": 4,
 "nbformat_minor": 5
}
